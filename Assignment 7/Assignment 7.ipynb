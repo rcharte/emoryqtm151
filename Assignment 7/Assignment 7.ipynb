{
 "cells": [
  {
   "attachments": {},
   "cell_type": "markdown",
   "metadata": {},
   "source": [
    "# Assignment 7"
   ]
  },
  {
   "attachments": {},
   "cell_type": "markdown",
   "metadata": {},
   "source": [
    "## Try to submit as an HTML file"
   ]
  },
  {
   "attachments": {},
   "cell_type": "markdown",
   "metadata": {},
   "source": [
    "<font size = \"5\">\n",
    "Print your name below"
   ]
  },
  {
   "cell_type": "code",
   "execution_count": 2,
   "metadata": {},
   "outputs": [
    {
     "name": "stdout",
     "output_type": "stream",
     "text": [
      "Ryan Charter\n"
     ]
    }
   ],
   "source": [
    "print(\"Ryan Charter\")"
   ]
  },
  {
   "attachments": {},
   "cell_type": "markdown",
   "metadata": {},
   "source": [
    "<font size = \"5\">\n",
    "\n",
    "Import the \"pandas\" and \"numpy\" library"
   ]
  },
  {
   "cell_type": "code",
   "execution_count": 3,
   "metadata": {},
   "outputs": [],
   "source": [
    "# Write your answer here:\n",
    "import numpy as np\n",
    "import pandas as pd\n",
    "\n"
   ]
  },
  {
   "attachments": {},
   "cell_type": "markdown",
   "metadata": {},
   "source": [
    "<font size = \"5\">\n",
    "\n",
    "(a) Replace values from intervals\n",
    "\n",
    "<font size = \"3\">\n",
    "\n",
    "- Import the dataset \"data_raw/students.csv\" to a new object \"students\"\n",
    "- Use \"pd.cut()\" to assign the column \"numericgrade\" to a letter grade <br>\n",
    "using the following table\n",
    "\n",
    "<img src=\"figures/grading_scale.png\" alt=\"drawing\" width=\"600\"/>\n",
    "\n",
    "HINT: See Lecture 13"
   ]
  },
  {
   "cell_type": "code",
   "execution_count": 4,
   "metadata": {},
   "outputs": [],
   "source": [
    "students = pd.read_csv(\"data_raw/students.csv\")\n",
    "\n",
    "bins_x = [-1,54,59,64,69,74,79,82,86,92,100]\n",
    "labels_x = [\"F\",\"D\",\"C-\",\"C\",\"C+\",\"B-\",\"B\",\"B+\",\"A-\",\"A\"]\n",
    "\n",
    "students[\"lettergrade\"] = pd.cut(students[\"numericgrade\"],\n",
    "                              bins = bins_x,\n",
    "                              right = True,\n",
    "                              labels = labels_x)"
   ]
  },
  {
   "attachments": {},
   "cell_type": "markdown",
   "metadata": {},
   "source": [
    "<font size = \"5\">\n",
    "\n",
    "For questions (b)-(e) use \"results.csv\", <br>\n",
    "a dataset on competitive car racing\n",
    "\n",
    "Import the dataset \"data/raw_results.csv\" to <br>\n",
    " a new object \"results\""
   ]
  },
  {
   "cell_type": "code",
   "execution_count": 5,
   "metadata": {},
   "outputs": [],
   "source": [
    "\n",
    "results = pd.read_csv(\"data_raw/results.csv\")\n"
   ]
  },
  {
   "attachments": {},
   "cell_type": "markdown",
   "metadata": {},
   "source": [
    "<font size = \"5\">\n",
    "\n",
    "(b) Check column types\n",
    "\n",
    "<font size = \"3\">\n",
    "\n",
    "- View the dataset\n",
    "- Use the function \"results.dtypes\" to get the column types\n",
    "- Search for the \"results\" table in \"codebook/f1_codebook.pdf\".\n",
    "- Does the type of the \"milliseconds\" column agree with the codebook? <br>\n",
    "i.e. is it an integer, float, or string/object?\n",
    "\n",
    "\n",
    "HINT: See Lectures 13 and 14 for how to interpret the codebook\n"
   ]
  },
  {
   "cell_type": "code",
   "execution_count": 6,
   "metadata": {},
   "outputs": [
    {
     "name": "stdout",
     "output_type": "stream",
     "text": [
      "The 'milliseconds' coulmn doesn't agree with the codebook as it is listed as a string/object.\n"
     ]
    }
   ],
   "source": [
    "# Write your own code here\n",
    "# Note: When you run \"results.dtypes\" you will get the type (int, float, object)\n",
    "# Object represents columns coded as strings.\n",
    "\n",
    "results.dtypes\n",
    "\n",
    "print(\"The 'milliseconds' coulmn doesn't agree with the codebook as it is listed as a string/object.\")\n",
    "\n"
   ]
  },
  {
   "attachments": {},
   "cell_type": "markdown",
   "metadata": {},
   "source": [
    "<font size = \"5\">\n",
    "\n",
    "(c) Clean a column\n",
    "\n",
    "<font size = \"3\">\n",
    "\n",
    "- Import the dataset \"data_raw/results.csv\" to a new object \"results\"\n",
    "- Our goal is to replace any string values in the column \"milliseconds\" <br>\n",
    "to missing values (NaNs) and covert to numeric\n",
    "- To do so, go to Lecture 13 and follow the setups under the headings\n",
    "    - \"Extract list of non-numeric values\"\n",
    "    - \"Replace certain values\"\n",
    "    - \"Convert column to numeric\"\n",
    "\n",
    "HINT: substitute \"milliseconds\" instead of \"alt\", <br>\n",
    "and the dataset \"results\" instead of \"circuits\" \n"
   ]
  },
  {
   "cell_type": "code",
   "execution_count": 33,
   "metadata": {},
   "outputs": [],
   "source": [
    "# Write your own code here\n",
    "subset = results.query(\"milliseconds.str.isnumeric() == False\")\n",
    "list_unique = pd.unique(subset[\"milliseconds\"])\n",
    "results[\"milliseconds\"] = results[\"milliseconds\"].replace('\\\\N', np.nan)\n",
    "results[\"milliseconds_numeric\"] = pd.to_numeric(results[\"milliseconds\"])\n"
   ]
  },
  {
   "attachments": {},
   "cell_type": "markdown",
   "metadata": {},
   "source": [
    "<font size = \"5\">\n",
    "\n",
    "(d) Groupby + Aggregate\n",
    "\n",
    "<font size = \"3\">\n",
    "\n",
    "- Compute the mean and standard deviation of \"laps\", <br>\n",
    "grouping by \"constructorId\". Store the new dataset <br>\n",
    "as \"results_agg\"\n",
    "- Sort the aggregate dataset in decending <br>\n",
    "order of mean laps using \".sort_values()\"\n",
    "\n",
    "HINT: See Lecture 14 <br>\n"
   ]
  },
  {
   "cell_type": "code",
   "execution_count": 28,
   "metadata": {},
   "outputs": [
    {
     "data": {
      "text/html": [
       "<div>\n",
       "<style scoped>\n",
       "    .dataframe tbody tr th:only-of-type {\n",
       "        vertical-align: middle;\n",
       "    }\n",
       "\n",
       "    .dataframe tbody tr th {\n",
       "        vertical-align: top;\n",
       "    }\n",
       "\n",
       "    .dataframe thead th {\n",
       "        text-align: right;\n",
       "    }\n",
       "</style>\n",
       "<table border=\"1\" class=\"dataframe\">\n",
       "  <thead>\n",
       "    <tr style=\"text-align: right;\">\n",
       "      <th></th>\n",
       "      <th>mean_laps</th>\n",
       "      <th>sd_points</th>\n",
       "    </tr>\n",
       "    <tr>\n",
       "      <th>constructorId</th>\n",
       "      <th></th>\n",
       "      <th></th>\n",
       "    </tr>\n",
       "  </thead>\n",
       "  <tbody>\n",
       "    <tr>\n",
       "      <th>149</th>\n",
       "      <td>198.500000</td>\n",
       "      <td>2.121320</td>\n",
       "    </tr>\n",
       "    <tr>\n",
       "      <th>112</th>\n",
       "      <td>197.000000</td>\n",
       "      <td>4.242641</td>\n",
       "    </tr>\n",
       "    <tr>\n",
       "      <th>109</th>\n",
       "      <td>184.285714</td>\n",
       "      <td>32.912583</td>\n",
       "    </tr>\n",
       "    <tr>\n",
       "      <th>119</th>\n",
       "      <td>178.666667</td>\n",
       "      <td>36.950417</td>\n",
       "    </tr>\n",
       "    <tr>\n",
       "      <th>108</th>\n",
       "      <td>163.764706</td>\n",
       "      <td>63.148168</td>\n",
       "    </tr>\n",
       "    <tr>\n",
       "      <th>...</th>\n",
       "      <td>...</td>\n",
       "      <td>...</td>\n",
       "    </tr>\n",
       "    <tr>\n",
       "      <th>93</th>\n",
       "      <td>0.000000</td>\n",
       "      <td>NaN</td>\n",
       "    </tr>\n",
       "    <tr>\n",
       "      <th>61</th>\n",
       "      <td>0.000000</td>\n",
       "      <td>0.000000</td>\n",
       "    </tr>\n",
       "    <tr>\n",
       "      <th>137</th>\n",
       "      <td>0.000000</td>\n",
       "      <td>NaN</td>\n",
       "    </tr>\n",
       "    <tr>\n",
       "      <th>91</th>\n",
       "      <td>0.000000</td>\n",
       "      <td>NaN</td>\n",
       "    </tr>\n",
       "    <tr>\n",
       "      <th>74</th>\n",
       "      <td>0.000000</td>\n",
       "      <td>0.000000</td>\n",
       "    </tr>\n",
       "  </tbody>\n",
       "</table>\n",
       "<p>210 rows × 2 columns</p>\n",
       "</div>"
      ],
      "text/plain": [
       "                mean_laps  sd_points\n",
       "constructorId                       \n",
       "149            198.500000   2.121320\n",
       "112            197.000000   4.242641\n",
       "109            184.285714  32.912583\n",
       "119            178.666667  36.950417\n",
       "108            163.764706  63.148168\n",
       "...                   ...        ...\n",
       "93               0.000000        NaN\n",
       "61               0.000000   0.000000\n",
       "137              0.000000        NaN\n",
       "91               0.000000        NaN\n",
       "74               0.000000   0.000000\n",
       "\n",
       "[210 rows x 2 columns]"
      ]
     },
     "execution_count": 28,
     "metadata": {},
     "output_type": "execute_result"
    }
   ],
   "source": [
    "# Write your own code\n",
    "\n",
    "results_agg = (results.groupby(\"constructorId\")\n",
    "                      .agg(mean_laps = ('laps','mean'),\n",
    "                             sd_points =   ('laps','std'))\n",
    "                      .sort_values(\"mean_laps\",ascending = False))\n",
    "\n",
    "display(results_agg)"
   ]
  },
  {
   "attachments": {},
   "cell_type": "markdown",
   "metadata": {},
   "source": [
    "<font size = \"5\" >\n",
    "\n",
    "(d) Query + Groupby + Aggregate\n",
    "\n",
    "<font size = \"3\">\n",
    "\n",
    "- Use \".query()\" to subset observations with <br>\n",
    "'race_id >= 200'\n",
    "- Compute the mean and standard deviation of \"laps\", <br>\n",
    "grouping by \"constructorId\". Store the new dataset <br>\n",
    "as \"results_agg\"\n",
    "\n",
    "Hint: See Lecture 11 (to refresh \".query()\") and <br>\n",
    "Lecture 14 for how to combine it with \".groupby()\""
   ]
  },
  {
   "cell_type": "code",
   "execution_count": 31,
   "metadata": {},
   "outputs": [
    {
     "data": {
      "text/html": [
       "<div>\n",
       "<style scoped>\n",
       "    .dataframe tbody tr th:only-of-type {\n",
       "        vertical-align: middle;\n",
       "    }\n",
       "\n",
       "    .dataframe tbody tr th {\n",
       "        vertical-align: top;\n",
       "    }\n",
       "\n",
       "    .dataframe thead th {\n",
       "        text-align: right;\n",
       "    }\n",
       "</style>\n",
       "<table border=\"1\" class=\"dataframe\">\n",
       "  <thead>\n",
       "    <tr style=\"text-align: right;\">\n",
       "      <th></th>\n",
       "      <th>mean_points</th>\n",
       "      <th>sd_points</th>\n",
       "    </tr>\n",
       "    <tr>\n",
       "      <th>constructorId</th>\n",
       "      <th></th>\n",
       "      <th></th>\n",
       "    </tr>\n",
       "  </thead>\n",
       "  <tbody>\n",
       "    <tr>\n",
       "      <th>1</th>\n",
       "      <td>3.255757</td>\n",
       "      <td>4.862496</td>\n",
       "    </tr>\n",
       "    <tr>\n",
       "      <th>3</th>\n",
       "      <td>2.471356</td>\n",
       "      <td>3.910091</td>\n",
       "    </tr>\n",
       "    <tr>\n",
       "      <th>4</th>\n",
       "      <td>1.986193</td>\n",
       "      <td>3.505756</td>\n",
       "    </tr>\n",
       "    <tr>\n",
       "      <th>5</th>\n",
       "      <td>1.121212</td>\n",
       "      <td>2.400518</td>\n",
       "    </tr>\n",
       "    <tr>\n",
       "      <th>6</th>\n",
       "      <td>4.200241</td>\n",
       "      <td>5.630588</td>\n",
       "    </tr>\n",
       "    <tr>\n",
       "      <th>...</th>\n",
       "      <td>...</td>\n",
       "      <td>...</td>\n",
       "    </tr>\n",
       "    <tr>\n",
       "      <th>209</th>\n",
       "      <td>0.012821</td>\n",
       "      <td>0.113228</td>\n",
       "    </tr>\n",
       "    <tr>\n",
       "      <th>210</th>\n",
       "      <td>0.809028</td>\n",
       "      <td>2.140123</td>\n",
       "    </tr>\n",
       "    <tr>\n",
       "      <th>211</th>\n",
       "      <td>3.723684</td>\n",
       "      <td>5.193839</td>\n",
       "    </tr>\n",
       "    <tr>\n",
       "      <th>213</th>\n",
       "      <td>2.327869</td>\n",
       "      <td>4.112956</td>\n",
       "    </tr>\n",
       "    <tr>\n",
       "      <th>214</th>\n",
       "      <td>3.693182</td>\n",
       "      <td>4.363796</td>\n",
       "    </tr>\n",
       "  </tbody>\n",
       "</table>\n",
       "<p>201 rows × 2 columns</p>\n",
       "</div>"
      ],
      "text/plain": [
       "               mean_points  sd_points\n",
       "constructorId                        \n",
       "1                 3.255757   4.862496\n",
       "3                 2.471356   3.910091\n",
       "4                 1.986193   3.505756\n",
       "5                 1.121212   2.400518\n",
       "6                 4.200241   5.630588\n",
       "...                    ...        ...\n",
       "209               0.012821   0.113228\n",
       "210               0.809028   2.140123\n",
       "211               3.723684   5.193839\n",
       "213               2.327869   4.112956\n",
       "214               3.693182   4.363796\n",
       "\n",
       "[201 rows x 2 columns]"
      ]
     },
     "metadata": {},
     "output_type": "display_data"
    }
   ],
   "source": [
    "# Write your own code\n",
    "\n",
    "results_agg = (results.query(\"raceId >= 200\")\n",
    "                       .groupby(\"constructorId\")\n",
    "                        .agg(mean_points = ('points','mean'),\n",
    "                             sd_points =   ('points','std')))\n",
    "                        \n",
    "display(results_agg)\n"
   ]
  }
 ],
 "metadata": {
  "kernelspec": {
   "display_name": "base",
   "language": "python",
   "name": "python3"
  },
  "language_info": {
   "codemirror_mode": {
    "name": "ipython",
    "version": 3
   },
   "file_extension": ".py",
   "mimetype": "text/x-python",
   "name": "python",
   "nbconvert_exporter": "python",
   "pygments_lexer": "ipython3",
   "version": "3.8.8"
  },
  "orig_nbformat": 4,
  "vscode": {
   "interpreter": {
    "hash": "f7ccf0ae4535e632d6f82fd67ad022d41dd4b99b9e52bb5b79d381c28e2a9ad0"
   }
  }
 },
 "nbformat": 4,
 "nbformat_minor": 2
}
