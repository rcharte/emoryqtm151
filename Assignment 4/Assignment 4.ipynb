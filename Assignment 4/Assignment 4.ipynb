{
 "cells": [
  {
   "attachments": {},
   "cell_type": "markdown",
   "metadata": {},
   "source": [
    "# Assignment 4"
   ]
  },
  {
   "attachments": {},
   "cell_type": "markdown",
   "metadata": {},
   "source": [
    "## Try to submit as an HTML file"
   ]
  },
  {
   "attachments": {},
   "cell_type": "markdown",
   "metadata": {},
   "source": [
    "<font size = \"5\">\n",
    "Print your name below"
   ]
  },
  {
   "cell_type": "code",
   "execution_count": 1,
   "metadata": {},
   "outputs": [
    {
     "name": "stdout",
     "output_type": "stream",
     "text": [
      "Ryan Charter\n"
     ]
    }
   ],
   "source": [
    "print(\"Ryan Charter\")"
   ]
  },
  {
   "attachments": {},
   "cell_type": "markdown",
   "metadata": {},
   "source": [
    "<font size = \"5\">\n",
    "\n",
    "Import the numpy, matplotlib, and pandas packages"
   ]
  },
  {
   "cell_type": "code",
   "execution_count": 2,
   "metadata": {},
   "outputs": [],
   "source": [
    "# Write down your answer here:\n",
    "\n",
    "import numpy as np\n",
    "import matplotlib.pyplot as plt\n",
    "import pandas as pd\n",
    "\n",
    "\n"
   ]
  },
  {
   "attachments": {},
   "cell_type": "markdown",
   "metadata": {},
   "source": [
    "<font size = \"5\">\n",
    "\n",
    "(a) Create a sequence \n",
    "\n",
    "- Create a value $n = 50$\n",
    "- Create a list with the values $0,1,\\ldots, n$\n",
    "- Count the length of the list"
   ]
  },
  {
   "cell_type": "code",
   "execution_count": 6,
   "metadata": {},
   "outputs": [
    {
     "name": "stdout",
     "output_type": "stream",
     "text": [
      "51\n"
     ]
    }
   ],
   "source": [
    "n = 50\n",
    "list_of_numbers = list(range(n+1))\n",
    "print(len(list_of_numbers))\n"
   ]
  },
  {
   "attachments": {},
   "cell_type": "markdown",
   "metadata": {},
   "source": [
    "<font size = \"5\">\n",
    "\n",
    "(b) Counting True/False statements in a list\n",
    "\n",
    "- Create\n",
    "list_ages = [18, 20, 13, 15, 20, 35, 8, 7]\n",
    "- Create an empty list \"list_eligible_voter\"\n",
    "- Use a for-loop without numbering\n",
    "    - Determine whether the age is $\\ge 18$\n",
    "    - Store the True/False result in \"list_eligible_voter\"\n",
    "- Use \"np.sum()\" to count how many voters are eligible\n",
    "\n",
    "Hint: Use the \"append\" function."
   ]
  },
  {
   "cell_type": "code",
   "execution_count": 16,
   "metadata": {},
   "outputs": [
    {
     "data": {
      "text/plain": [
       "4"
      ]
     },
     "execution_count": 16,
     "metadata": {},
     "output_type": "execute_result"
    }
   ],
   "source": [
    "# Write your answer here\n",
    "\n",
    "list_ages = [18, 20, 13, 15, 20, 35, 8, 7]\n",
    "list_eligible_voter = []\n",
    "\n",
    "for age in list_ages:\n",
    "    if age >= 18:\n",
    "        list_eligible_voter.append(age)\n",
    "\n",
    "np.sum(len(list_eligible_voter))\n",
    "\n",
    "\n",
    "\n",
    "\n",
    "\n",
    "\n"
   ]
  },
  {
   "attachments": {},
   "cell_type": "markdown",
   "metadata": {},
   "source": [
    "<font size = \"5\">\n",
    "\n",
    "(c) Graphs from multiple datasets\n",
    "\n",
    "- Create a list with the two \"WDI\" datasets for 2000, and 2020\n",
    "- Run a for-loop over each dataset \n",
    "    - Compute a histogram of \"prop_urbanpopulation\" for each year\n",
    "    - Label the title with the name of the dataset"
   ]
  },
  {
   "cell_type": "code",
   "execution_count": 4,
   "metadata": {},
   "outputs": [
    {
     "name": "stdout",
     "output_type": "stream",
     "text": [
      "['wdi_data/wdi_2000.csv', 'wdi_data/wdi_2020.csv']\n"
     ]
    },
    {
     "data": {
      "image/png": "[encoded data removed]",
      "text/plain": [
       "<Figure size 432x288 with 1 Axes>"
      ]
     },
     "metadata": {
      "needs_background": "light"
     },
     "output_type": "display_data"
    }
   ],
   "source": [
    "# Note \"prop_urbanpopulation\" is the percentage of the urban population over\n",
    "# the total population\n",
    "\n",
    "# Hint: Before you write the loop, test your code out by opening an individual dataset\n",
    "# Once you're sure the code works and you're familiar with the data, run the loop\n",
    "\n",
    "# Write your answer here\n",
    "\n",
    "wdi = [\"wdi_data/wdi_2000.csv\", \"wdi_data/wdi_2020.csv\"]\n",
    "print(wdi)\n",
    "clr= \"red\"\n",
    "index = 0\n",
    "year = 2000\n",
    "for data in wdi:\n",
    "    data_reader = pd.read_csv(data)\n",
    "    plt.hist(x = data_reader [\"prop_urbanpopulation\"])\n",
    "    plt.title(\"wdi\" + str(year))\n",
    "    plt.show\n",
    "    index = index +1\n",
    "    year = year +20\n",
    "    clr = \"blue\"\n",
    "\n"
   ]
  },
  {
   "cell_type": "code",
   "execution_count": 3,
   "metadata": {},
   "outputs": [
    {
     "name": "stdout",
     "output_type": "stream",
     "text": [
      "['wdi_data/wdi_2000.csv', 'wdi_data/wdi_2020.csv']\n"
     ]
    },
    {
     "data": {
      "image/png": "[encoded data removed]",
      "text/plain": [
       "<Figure size 432x288 with 1 Axes>"
      ]
     },
     "metadata": {
      "needs_background": "light"
     },
     "output_type": "display_data"
    }
   ],
   "source": [
    "wdi = [\"wdi_data/wdi_2000.csv\", \"wdi_data/wdi_2020.csv\"]\n",
    "print(wdi)\n",
    "clr= \"red\"\n",
    "index = 0\n",
    "year = 2000\n",
    "for data in wdi:\n",
    "    data_reader = pd.read_csv(data)\n",
    "    plt.hist(x = data_reader [\"prop_urbanpopulation\"])\n",
    "    plt.title(\"wdi\" + str(year))\n",
    "    plt.show\n",
    "    index = index +1\n",
    "    year = year +20\n",
    "    clr = \"blue\"\n"
   ]
  },
  {
   "attachments": {},
   "cell_type": "markdown",
   "metadata": {},
   "source": [
    "<font size = \"5\">\n",
    "\n",
    "For questions (d) and (e), use the following table:\n",
    "\n",
    "<img src=\"figures/grading_scale.png\" alt=\"drawing\" width=\"700\"/>\n",
    "\n",
    "(d) Loops with multiple lists\n",
    "\n",
    "<font size =\"3\">\n",
    "- Create three lists\n",
    "\n",
    "list_lower = [93, 87, 83, 80, 75, 70, 65, 60, 55, 0]\n",
    "\n",
    "list_upper = [100,92, 86, 82, 79, 74, 69, 64, 59, 54]\n",
    "\n",
    "list_letters = [\"A\",\"A-\",\"B+\",\"B\",\"B-\",\"C+\",\"C\",\"C-\",\"D\",\"F\"]\n",
    "\n",
    "- Create a for loop that prints the message:\n",
    "\n",
    "\"If a students gets a grade between .... and ..., their letter grade is ...\"\n",
    "\n"
   ]
  },
  {
   "cell_type": "code",
   "execution_count": 24,
   "metadata": {},
   "outputs": [
    {
     "name": "stdout",
     "output_type": "stream",
     "text": [
      "If a students gets a grade between  93 and  100 their letter grade is  A\n",
      "If a students gets a grade between  87 and  92 their letter grade is  A-\n",
      "If a students gets a grade between  83 and  86 their letter grade is  B+\n",
      "If a students gets a grade between  80 and  82 their letter grade is  B\n",
      "If a students gets a grade between  75 and  79 their letter grade is  B-\n",
      "If a students gets a grade between  70 and  74 their letter grade is  C+\n",
      "If a students gets a grade between  65 and  69 their letter grade is  C\n",
      "If a students gets a grade between  60 and  64 their letter grade is  C-\n",
      "If a students gets a grade between  55 and  59 their letter grade is  D\n",
      "If a students gets a grade between  0 and  54 their letter grade is  F\n"
     ]
    }
   ],
   "source": [
    "# Hint: Use a for-loop with numbering \n",
    "# Start the index at zero\n",
    "# In the body of the loop, extract the elements in each list by the index position\n",
    "\n",
    "# Write your answer here\n",
    "\n",
    "list_lower = [93, 87, 83, 80, 75, 70, 65, 60, 55, 0]\n",
    "\n",
    "list_upper = [100,92, 86, 82, 79, 74, 69, 64, 59, 54]\n",
    "\n",
    "list_letters = [\"A\",\"A-\",\"B+\",\"B\",\"B-\",\"C+\",\"C\",\"C-\",\"D\",\"F\"]\n",
    "\n",
    "n = len(list_letters)\n",
    " \n",
    "for i in range(n):\n",
    "    lower = list_lower[i]\n",
    "    upper = list_upper[i]\n",
    "    letter = list_letters[i]\n",
    "\n",
    "    print(\"If a students gets a grade between \", lower, \"and \", upper, \"their letter grade is \", letter)\n"
   ]
  },
  {
   "attachments": {},
   "cell_type": "markdown",
   "metadata": {},
   "source": [
    "<font size = \"5\" >\n",
    "\n",
    "(e) Classification with double loops\n",
    "\n",
    "<font size =\"3\">\n",
    "\n",
    "- Suppose that 5 students get the following grades:\n",
    "\n",
    "list_studentgrades = [80, 92, 60, 42, 97]\n",
    "\n",
    "- Print the following message:\n",
    "\n",
    "\"The student got a numeric grade of .... and their letter grade was ...\"\n"
   ]
  },
  {
   "cell_type": "code",
   "execution_count": 29,
   "metadata": {},
   "outputs": [
    {
     "name": "stdout",
     "output_type": "stream",
     "text": [
      "The student got a numeric grade of  80 and their letter grade was  B\n",
      "The student got a numeric grade of  92 and their letter grade was  A-\n",
      "The student got a numeric grade of  60 and their letter grade was  C-\n",
      "The student got a numeric grade of  42 and their letter grade was  F\n",
      "The student got a numeric grade of  97 and their letter grade was  A\n"
     ]
    }
   ],
   "source": [
    "#(a) Hint: Use a double for loop structure:\n",
    "#---- for studentgrade in list_studentgrades:\n",
    "#----     index = 0\n",
    "#----     for letter in list_letters:\n",
    "#----          Body\n",
    "#----          index = index + 1\n",
    "\n",
    "# (b) Inside the body, use an if/else statement to print the correct letter grade.\n",
    "# You can make your code more concise by doing similar steps to question (d).\n",
    "\n",
    "# Write your answer here:\n",
    "\n",
    "list_studentgrades = [80, 92, 60, 42, 97]\n",
    "\n",
    "list_studentletter = [\"A\",\"A-\",\"B+\",\"B\",\"B-\",\"C+\",\"C\",\"C-\",\"D\",\"F\"]\n",
    "\n",
    "for studentgrade in list_studentgrades:\n",
    "    index = 0\n",
    "    for letter in list_studentletter:\n",
    "        if studentgrade >= 93:\n",
    "            letter = 'A'\n",
    "        elif studentgrade >= 87:\n",
    "            letter = 'A-'\n",
    "        elif studentgrade >= 83:\n",
    "            letter = 'B+'\n",
    "        elif studentgrade >= 80:\n",
    "            letter = 'B'\n",
    "        elif studentgrade >= 75:\n",
    "            letter = 'B-'\n",
    "        elif studentgrade >= 70:\n",
    "            letter = 'C+'\n",
    "        elif studentgrade >= 65:\n",
    "            letter = 'C'\n",
    "        elif studentgrade >= 60:\n",
    "            letter = 'C-'\n",
    "        elif studentgrade >= 55:\n",
    "            letter = 'D'\n",
    "        else:\n",
    "            letter = 'F'\n",
    "\n",
    "    index = index + 1\n",
    "    \n",
    "    print(\"The student got a numeric grade of \", studentgrade, \"and their letter grade was \", letter)\n",
    "\n",
    "\n"
   ]
  }
 ],
 "metadata": {
  "kernelspec": {
   "display_name": "base",
   "language": "python",
   "name": "python3"
  },
  "language_info": {
   "codemirror_mode": {
    "name": "ipython",
    "version": 3
   },
   "file_extension": ".py",
   "mimetype": "text/x-python",
   "name": "python",
   "nbconvert_exporter": "python",
   "pygments_lexer": "ipython3",
   "version": "3.8.8 (default, Apr 13 2021, 12:59:45) \n[Clang 10.0.0 ]"
  },
  "orig_nbformat": 4,
  "vscode": {
   "interpreter": {
    "hash": "f7ccf0ae4535e632d6f82fd67ad022d41dd4b99b9e52bb5b79d381c28e2a9ad0"
   }
  }
 },
 "nbformat": 4,
 "nbformat_minor": 2
}
