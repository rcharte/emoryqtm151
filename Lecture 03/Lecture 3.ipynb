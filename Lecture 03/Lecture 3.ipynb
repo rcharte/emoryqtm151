{
 "cells": [
  {
   "attachments": {},
   "cell_type": "markdown",
   "metadata": {},
   "source": [
    "# <span style=\"color:darkblue\"> Lecture 3: Mathematical Operations and Random Numbers </span>"
   ]
  },
  {
   "attachments": {},
   "cell_type": "markdown",
   "metadata": {},
   "source": [
    "<font size=\"5\"> \n",
    "\n",
    "In the previous class we:\n",
    "- Introduced lists and variable types\n",
    "- Talked about how to extract elements from a list"
   ]
  },
  {
   "attachments": {},
   "cell_type": "markdown",
   "metadata": {},
   "source": [
    "<font size=\"5\"> \n",
    "\n",
    "In this class we will:\n",
    "\n",
    "- Introduce a library for general mathematical operations\n",
    "- Generate random numbers\n",
    "- (Optional) Matrix operations"
   ]
  },
  {
   "attachments": {},
   "cell_type": "markdown",
   "metadata": {},
   "source": [
    "## <span style=\"color:darkblue\"> I. Import Libraries </span>"
   ]
  },
  {
   "cell_type": "code",
   "execution_count": 1,
   "metadata": {},
   "outputs": [],
   "source": [
    "# the \"numPy\" package is used for mathematical operations\n",
    "\n",
    "import numpy as np #Stands for Numeric Python\n",
    "import matplotlib.pyplot as plt\n"
   ]
  },
  {
   "attachments": {},
   "cell_type": "markdown",
   "metadata": {},
   "source": [
    "##  <span style=\"color:darkblue\"> II. Numbers and Functions </span>"
   ]
  },
  {
   "attachments": {},
   "cell_type": "markdown",
   "metadata": {},
   "source": [
    "Examples of numPy numbers"
   ]
  },
  {
   "cell_type": "code",
   "execution_count": 2,
   "metadata": {},
   "outputs": [
    {
     "data": {
      "text/plain": [
       "3.141592653589793"
      ]
     },
     "execution_count": 2,
     "metadata": {},
     "output_type": "execute_result"
    }
   ],
   "source": [
    "# Computes \"pi\" (3.14...)\n",
    "np.pi"
   ]
  },
  {
   "attachments": {},
   "cell_type": "markdown",
   "metadata": {},
   "source": [
    "Examples of numPy functions"
   ]
  },
  {
   "cell_type": "code",
   "execution_count": 3,
   "metadata": {},
   "outputs": [
    {
     "name": "stdout",
     "output_type": "stream",
     "text": [
      "0.0\n",
      "2.718281828459045\n",
      "0.8414709848078965\n",
      "0.5403023058681398\n"
     ]
    }
   ],
   "source": [
    "# log(x) computes the logarithm with base \"e\" (Euler constant)\n",
    "# exp(x) compute the Euler constant raised to the power of \"x\"\n",
    "# sing(x) computes the sine of x\n",
    "# cos(x) computes the cosine of x\n",
    "\n",
    "print(np.log(1))\n",
    "print(np.exp(1))\n",
    "print(np.sin(1))\n",
    "print(np.cos(1))"
   ]
  },
  {
   "cell_type": "markdown",
   "metadata": {},
   "source": [
    "Try it yourself!\n",
    "\n",
    "- Create a new variable, x=5\n",
    "- Compute pi*x"
   ]
  },
  {
   "cell_type": "code",
   "execution_count": 7,
   "metadata": {},
   "outputs": [
    {
     "name": "stdout",
     "output_type": "stream",
     "text": [
      "78.53981633974483\n",
      "5.540487995575841e-12\n"
     ]
    }
   ],
   "source": [
    "x=5\n",
    "\n",
    "print((np.pi)*(x**2))\n",
    "print((1/(np.sqrt(2*np.pi))*np.e**(-x**2)))"
   ]
  },
  {
   "attachments": {},
   "cell_type": "markdown",
   "metadata": {},
   "source": [
    "##  <span style=\"color:darkblue\"> III. Vector Arrays </span>"
   ]
  },
  {
   "attachments": {},
   "cell_type": "markdown",
   "metadata": {},
   "source": [
    "<font size = \"5\">\n",
    "Create an array from a list"
   ]
  },
  {
   "cell_type": "code",
   "execution_count": 8,
   "metadata": {},
   "outputs": [],
   "source": [
    "# You create an array by converting a list [1,2,3,4,5] to a numeric object\n",
    "# \"array\" is a subfunction of the library numPy.\n",
    "\n",
    "vec_a = np.array([1,2,3])\n",
    "vec_b = np.array([0,1,0])\n",
    "vec_c = np.array([10,100,1000,10000])\n",
    "\n",
    "array_a  = np.array([1,2,3,4,5])\n",
    "array_b  = np.array([0,1,0,0,1])\n",
    "array_c  = np.array([10,100,100])\n"
   ]
  },
  {
   "attachments": {},
   "cell_type": "markdown",
   "metadata": {},
   "source": [
    "<font size = \"5\">\n",
    "\n",
    "Accessing an element of an array"
   ]
  },
  {
   "cell_type": "code",
   "execution_count": 10,
   "metadata": {},
   "outputs": [
    {
     "name": "stdout",
     "output_type": "stream",
     "text": [
      "1\n",
      "1000\n",
      "1\n",
      "5\n"
     ]
    }
   ],
   "source": [
    "# Arrays, like lists, start their numbering at zero.\n",
    "\n",
    "print(vec_a[0])\n",
    "print(vec_c[2])\n",
    "\n",
    "print(array_a[0])\n",
    "print(array_a[4])\n"
   ]
  },
  {
   "attachments": {},
   "cell_type": "markdown",
   "metadata": {},
   "source": [
    "<font size = \"5\">\n",
    "Operations with a single array and a scalar"
   ]
  },
  {
   "cell_type": "code",
   "execution_count": 11,
   "metadata": {},
   "outputs": [
    {
     "name": "stdout",
     "output_type": "stream",
     "text": [
      "[ 2  4  6  8 10]\n",
      "[0.5 1.  1.5 2.  2.5]\n",
      "[3 4 5 6 7]\n",
      "[ 1  4  9 16 25]\n"
     ]
    }
   ],
   "source": [
    "# A scalar refers to either an int or float\n",
    "# We can do many common operations with \n",
    "\n",
    "print(array_a * 2)\n",
    "print(array_a / 2)\n",
    "print(array_a + 2)\n",
    "print(array_a ** 2)"
   ]
  },
  {
   "attachments": {},
   "cell_type": "markdown",
   "metadata": {},
   "source": [
    "<font size = \"5\">\n",
    "Element-by-element operations between two arrays of the same size"
   ]
  },
  {
   "cell_type": "code",
   "execution_count": 14,
   "metadata": {},
   "outputs": [
    {
     "name": "stdout",
     "output_type": "stream",
     "text": [
      "[1 3 3 4 6]\n"
     ]
    }
   ],
   "source": [
    "# When you add two arrays of the same size,\n",
    "# Python adds the individual elements in each position\n",
    "\n",
    "print(array_a + array_b)\n"
   ]
  },
  {
   "cell_type": "code",
   "execution_count": 12,
   "metadata": {},
   "outputs": [
    {
     "name": "stdout",
     "output_type": "stream",
     "text": [
      "[0 2 0 0 5]\n",
      "[1 1 3 4 4]\n",
      "[inf  2. inf inf  5.]\n"
     ]
    },
    {
     "name": "stderr",
     "output_type": "stream",
     "text": [
      "/var/folders/63/n_049w313mj6sb6y1c59bb_h0000gp/T/ipykernel_53187/179360748.py:6: RuntimeWarning: divide by zero encountered in divide\n",
      "  print(array_a / array_b)\n"
     ]
    }
   ],
   "source": [
    "# We can do other similar element-by-element operations\n",
    "# such as multiplication, subtraction, and division.\n",
    "\n",
    "print(array_a * array_b)\n",
    "print(array_a - array_b)\n",
    "print(array_a / array_b)\n"
   ]
  },
  {
   "attachments": {},
   "cell_type": "markdown",
   "metadata": {},
   "source": [
    "<font size = \"5\">\n",
    "Summary statistics of an array"
   ]
  },
  {
   "cell_type": "code",
   "execution_count": 27,
   "metadata": {},
   "outputs": [
    {
     "name": "stdout",
     "output_type": "stream",
     "text": [
      "3.0\n",
      "1.4142135623730951\n",
      "1\n",
      "3.0\n",
      "5\n"
     ]
    }
   ],
   "source": [
    "# The function np.mean() computes the mean of an array\n",
    "# We can do similar operations for the standard deviation (std),\n",
    "# the minimum (min), the median (median), and the maximum (max).\n",
    "\n",
    "print(np.mean(array_a))\n",
    "print(np.std(array_a))\n",
    "print(np.min(array_a))\n",
    "print(np.median(array_a))\n",
    "print(np.max(array_a))"
   ]
  },
  {
   "cell_type": "code",
   "execution_count": 29,
   "metadata": {},
   "outputs": [],
   "source": [
    "# Create your own array and compute any of the above summary statistics\n",
    "\n",
    "\n"
   ]
  },
  {
   "attachments": {},
   "cell_type": "markdown",
   "metadata": {},
   "source": [
    "<font size = \"5\">\n",
    "<span style=\"color:red\"> Controlled Error </span>: Make sure that the arrays have the same size"
   ]
  },
  {
   "cell_type": "code",
   "execution_count": 30,
   "metadata": {},
   "outputs": [
    {
     "ename": "ValueError",
     "evalue": "operands could not be broadcast together with shapes (5,) (3,) ",
     "output_type": "error",
     "traceback": [
      "\u001b[0;31m---------------------------------------------------------------------------\u001b[0m",
      "\u001b[0;31mValueError\u001b[0m                                Traceback (most recent call last)",
      "Cell \u001b[0;32mIn[30], line 3\u001b[0m\n\u001b[1;32m      1\u001b[0m \u001b[39m# Here I try to combine two arrays of different size.\u001b[39;00m\n\u001b[0;32m----> 3\u001b[0m array_a \u001b[39m+\u001b[39;49m array_c\n",
      "\u001b[0;31mValueError\u001b[0m: operands could not be broadcast together with shapes (5,) (3,) "
     ]
    }
   ],
   "source": [
    "# Here I try to combine two arrays of different size.\n",
    "\n",
    "array_a + array_c"
   ]
  },
  {
   "attachments": {},
   "cell_type": "markdown",
   "metadata": {},
   "source": [
    "##  <span style=\"color:darkblue\"> IV. Random Numbers </span>\n",
    "\n",
    "<font size = \"5\">\n",
    "\n",
    "Used for a variety of purposes, e.g.\n",
    "- Simulate different scenarios: high risk or low risk\n",
    "- Study a system and/or estimator\n",
    "- In medicine, randomly assign subjects to treatment or control"
   ]
  },
  {
   "attachments": {},
   "cell_type": "markdown",
   "metadata": {},
   "source": [
    "<font size = \"5\">\n",
    "\n",
    "Create a vector of random variables"
   ]
  },
  {
   "cell_type": "code",
   "execution_count": 13,
   "metadata": {},
   "outputs": [
    {
     "name": "stdout",
     "output_type": "stream",
     "text": [
      "[ 7.42983391e-01  9.56281512e-01 -8.72314787e-01 -9.54251873e-01\n",
      " -4.93900402e-01 -1.29462615e+00  2.60757664e-01  6.36924018e-02\n",
      "  1.96045272e+00 -8.36885891e-01  1.03932545e+00 -1.73236663e+00\n",
      " -2.26827731e-01 -6.62843977e-01 -1.09562246e+00 -9.99305521e-01\n",
      "  2.73559320e-01  2.96567908e-01  2.50773778e-01  1.89605964e-01\n",
      " -4.15004851e-01 -5.03828499e-01  1.03644455e+00  1.55063446e-01\n",
      " -1.65793068e+00  6.59254448e-01 -4.17746869e-01  3.47847008e-01\n",
      "  5.12501101e-01  8.03925612e-01 -4.86840062e-01 -7.37032651e-01\n",
      " -2.57591206e-01  4.92254823e-01  4.50033327e-02 -3.64272317e-01\n",
      " -2.16409415e+00 -2.38477337e-03  8.36287774e-02  1.04744558e+00\n",
      " -9.35788625e-01  2.37496890e+00  4.26405670e-01  5.03048862e-01\n",
      "  2.05918244e+00  6.81007614e-01  3.23609732e-01  8.91396692e-01\n",
      " -3.01818020e-01  4.02266006e-01  3.43389562e-01  1.68088167e+00\n",
      " -1.53081108e+00 -5.21441786e-01 -1.23517236e-01 -4.42672245e-01\n",
      "  4.44431858e-01  3.91998112e-01  2.23851149e+00  9.50731163e-01\n",
      "  1.43359423e+00  1.31747710e+00  2.69510613e-01 -1.29359277e+00\n",
      " -1.40965266e+00 -3.07897810e-01 -3.65606472e-02  6.66918983e-01\n",
      "  8.69512088e-01 -1.70325643e+00 -4.50528254e-01 -7.89121339e-01\n",
      "  1.47994096e+00  1.11958022e+00 -9.73624942e-01 -2.48409865e+00\n",
      " -9.77376409e-01  5.02518944e-01 -3.50332936e-02 -8.15376122e-01\n",
      " -6.19398815e-01 -7.41734200e-01  5.10003383e-01 -1.06962614e+00\n",
      " -9.98899894e-01 -2.51329885e-01 -9.40543316e-01  4.80161394e-01\n",
      " -9.02708691e-01  1.26539711e+00 -5.37249366e-01 -2.38689923e-01\n",
      " -1.71131564e+00 -1.99460936e+00  1.01773948e+00 -7.00213583e-01\n",
      "  4.61000632e-01  2.41118348e-01 -1.92007929e+00  2.37416868e-02\n",
      "  5.45997042e-01  7.34133645e-02  1.38391128e-01 -1.80783278e+00\n",
      " -6.85018541e-01 -6.83017016e-01  8.48761726e-01 -1.87498544e+00\n",
      "  1.38863721e-01 -8.43540881e-01 -2.11674932e-01  2.56601821e+00\n",
      "  6.15053466e-01 -5.28970117e-01  9.98127002e-01 -6.76094150e-01\n",
      "  1.67528479e+00 -6.47460319e-01  1.41394263e+00 -3.01248012e-01\n",
      "  3.66993109e-01 -6.20031677e-01 -1.16842881e-01  4.86331643e-01\n",
      "  4.16281590e-01 -2.52094651e+00  1.44828919e+00  8.73744481e-02\n",
      " -1.15849780e+00  6.14021946e-01  1.04529466e+00 -2.36367434e-01\n",
      " -7.21521760e-01  2.66927060e-01  1.15463053e+00  1.31294481e+00\n",
      " -4.49837788e-01  9.14780669e-01 -1.02591794e-01  4.86191770e-01\n",
      "  8.56920778e-01  4.83652339e-01 -4.27215565e-01  1.89756089e-01\n",
      " -1.90126236e-01  1.03776088e+00 -7.04896541e-01 -1.39829206e-01\n",
      " -7.55940674e-01  2.08159078e+00  5.65687853e-01 -5.16643880e-01\n",
      "  3.77562248e-01 -9.42374147e-02 -3.54117632e-01 -1.65252671e+00\n",
      " -9.49382594e-01 -1.69461760e-01 -1.74863088e+00  8.16714801e-01\n",
      " -3.02074043e+00 -3.96515260e-01 -9.95164287e-01 -1.35660664e+00\n",
      " -1.77636299e+00 -7.11083446e-01 -1.44632178e+00 -8.92531563e-01\n",
      " -1.68811063e+00  5.90218285e-01  1.38777853e+00  5.44287548e-01\n",
      " -1.46433789e-01  1.09412452e+00  4.10359630e-01  1.42960298e-01\n",
      "  1.67270867e+00 -2.00808625e+00 -1.24746052e+00  5.09029500e-01\n",
      "  4.17384986e-01  9.73226140e-01  1.23537308e+00  5.05768139e-01\n",
      "  5.62656199e-01 -7.11422651e-01  2.96494065e+00 -6.76775235e-01\n",
      "  2.87301322e+00 -1.04725571e+00  3.58390302e-01 -7.29698713e-01\n",
      "  7.72842300e-02  6.05184727e-02  8.02406296e-01  2.46652025e-01\n",
      " -1.30361993e+00 -1.39206252e+00 -7.07782453e-01 -1.52564551e+00\n",
      "  1.03118230e-01  1.64709741e+00  5.62921744e-01 -1.37362489e+00\n",
      "  1.54134363e+00 -7.46465541e-01  3.13061791e-01  8.55012628e-01\n",
      " -2.14960272e+00  1.94934533e+00 -4.09213941e-02 -3.43703721e-02\n",
      "  6.22069111e-01 -2.19376788e+00 -1.11120760e+00  2.35960492e+00\n",
      "  1.08969271e+00  1.93798686e+00  1.71578869e-01 -2.52914720e+00\n",
      "  1.16426385e-01 -3.85071167e-01 -1.06179155e-01  5.44610951e-01\n",
      " -7.97487846e-01  2.41297886e-01  4.14041761e-01  8.64508349e-01\n",
      "  1.16740065e-01 -2.93686003e-01 -1.89296025e+00  8.17000412e-01\n",
      "  9.44051231e-01  1.02751135e+00  1.10919443e+00  1.61998648e+00\n",
      " -5.81552867e-01  2.17776195e-01 -6.74361331e-01 -3.81030715e-01\n",
      " -1.59445497e+00 -2.36331252e+00 -8.97772437e-01 -1.90040845e+00\n",
      "  1.00267555e+00 -1.29678065e+00  1.16905256e+00 -8.26307085e-01\n",
      " -9.73639471e-01 -5.24018616e-01  2.65750365e-01  1.38822290e+00\n",
      "  6.01629548e-01  1.18473955e+00  2.55615700e-01 -2.36674870e-01\n",
      " -2.18494134e+00 -1.94160050e-01  8.79402310e-01 -1.69976624e+00\n",
      " -3.41170050e-01  1.37098345e+00  3.80546093e-01  1.76211281e+00\n",
      " -8.37200927e-01  7.84364743e-01  6.17736785e-01 -3.61443930e-01\n",
      " -5.25709905e-01 -4.11862158e-01  2.11161943e+00 -4.63396308e-01\n",
      " -1.79874561e+00 -8.02277539e-01  1.27045774e+00 -1.99353979e+00\n",
      " -5.47584699e-01 -8.48792652e-02 -5.72507392e-01 -3.80769907e-01\n",
      " -1.38851837e+00 -1.01240932e+00 -2.55379687e-01  1.69894363e+00\n",
      "  2.41899395e+00  4.93530787e-01 -1.27790482e+00 -8.01441459e-01\n",
      " -2.02409352e+00  2.67584171e-01  3.13881555e-01 -2.22207946e+00\n",
      " -5.12167372e-01  7.63208121e-01 -8.50899731e-01 -5.28978954e-01\n",
      "  4.97091949e-01  7.42262037e-01  1.52922832e+00  9.10007070e-01\n",
      " -1.42281321e+00  1.28711952e+00 -3.16838375e-01  5.14066317e-01\n",
      " -1.05989075e-01  7.89548048e-02  1.23404796e-01  1.27538711e-01\n",
      " -2.12375085e-02  7.22609299e-01  8.59485284e-01  7.89935290e-01\n",
      " -7.37191772e-02  6.30498018e-01  9.71458239e-01 -1.83005188e+00\n",
      "  8.22441492e-02 -1.32905629e+00 -7.81568820e-01 -4.07157958e-01\n",
      "  7.29847221e-02  4.03197682e-01  1.16581680e+00 -3.94749322e-01\n",
      " -1.77275992e-01  2.61259507e-01 -1.51063829e+00  1.50720165e+00\n",
      "  4.59663658e-01  3.38428201e-01 -1.37431330e-01  7.17587700e-02\n",
      " -5.56595054e-01  7.56551543e-01 -9.61702956e-01  9.48538799e-01\n",
      "  1.12523805e+00 -9.92480552e-01  4.44358358e-01 -4.25198950e-01\n",
      " -2.48169097e+00  1.06843553e+00 -1.33941171e-01  1.75977348e-01\n",
      "  1.92605683e-01 -1.15794985e-01  3.47863246e-01 -1.81612419e+00\n",
      "  4.31947446e-01  3.12520618e-01  2.17947306e-02  1.70183421e+00\n",
      " -1.74315481e-01 -4.24162221e-01  1.11167805e+00 -1.94230681e-01\n",
      " -1.06331466e-01 -8.48454807e-01  1.64236346e+00 -2.03443876e-01\n",
      "  2.16072355e-01  1.72190268e-01  7.29647961e-01 -5.36614913e-01\n",
      "  1.61969778e-01  1.18958151e+00 -7.47296081e-01  9.84310905e-01\n",
      " -2.08969164e-01 -1.06002946e-01  1.80081765e+00 -2.49502473e-01\n",
      " -1.43830663e+00 -7.49809924e-01 -4.94392741e-01 -8.46091782e-01\n",
      "  9.78840598e-01 -1.65425488e-01  1.02618805e-01  5.74621767e-01\n",
      " -6.39391032e-01 -7.27272433e-01 -5.08736158e-02  1.61092677e+00\n",
      "  1.93976599e+00  8.25881109e-02  1.02622696e-01  1.23597212e+00\n",
      "  2.14479922e-01  2.33063428e-01 -1.24486065e+00  3.79599916e-01\n",
      "  4.09043666e-02  5.09055460e-01  1.67992842e+00 -1.27190110e+00\n",
      " -9.79042271e-01 -2.79443253e-01  1.94706259e+00  8.84728863e-01\n",
      " -7.31344491e-01 -3.72157182e-01 -2.22971436e-01  1.18815562e+00\n",
      " -1.70074663e+00  2.77354354e-01  1.48086055e+00 -2.01912468e+00\n",
      "  5.33302335e-01  1.69367388e-01  1.07504451e+00 -2.53615166e+00\n",
      "  6.62525940e-01  4.68563454e-01  6.22908682e-01 -3.39112770e-01\n",
      "  1.04078076e+00  3.54836721e-01  1.81995551e+00  1.27153537e+00\n",
      " -2.20567041e-01 -1.98773229e+00 -1.03186751e+00  5.54805642e-01\n",
      "  4.13233341e-01  1.86384497e+00 -1.26233157e+00 -4.17954890e-01\n",
      " -8.96527665e-01 -2.23193015e-01  1.17929215e+00  1.72056769e+00\n",
      " -1.14002486e-01  1.11650026e+00  2.26134999e-02 -5.51055283e-01\n",
      " -2.82841651e-01  9.62854145e-01 -2.72042955e-01  2.97151617e-01\n",
      " -1.34484065e+00  1.16987869e+00  3.98811570e-01  2.52963644e-01\n",
      "  7.22874229e-01  8.26201668e-01  1.96353669e+00 -8.25906773e-01\n",
      " -1.58898410e-01 -1.22185343e+00  1.30242625e+00  2.76141593e-01\n",
      "  3.55008651e-01 -1.20254215e+00 -7.87084488e-01  7.27190451e-01\n",
      "  1.42288960e-01  1.06823801e+00 -2.15367006e-01  8.58741373e-01\n",
      " -2.64014026e-01  6.04533859e-01 -4.58454973e-01 -1.00995978e-01\n",
      " -4.99986028e-01 -5.56819152e-01 -6.84929038e-01 -3.19426899e-01\n",
      " -4.35555318e-01 -8.39728525e-01 -6.06180343e-02 -3.92698922e-01\n",
      "  1.40450335e+00  2.15272371e-01  5.66793562e-01 -5.87160980e-01\n",
      "  1.14385998e+00 -1.05370566e+00 -1.16073019e+00  8.53864517e-01\n",
      " -1.00733769e+00 -8.18974980e-01 -7.84203479e-01  1.88551657e-01\n",
      "  3.93123075e-02  1.71254480e+00  2.72765333e-01  1.48654054e+00\n",
      " -4.47797555e-01 -7.20488468e-01  5.13978235e-01  1.47548354e+00\n",
      "  8.10037071e-01  1.20683467e-01 -5.46901282e-01  1.38999111e+00\n",
      " -2.15177935e-01  1.27008576e+00  5.91908030e-01 -3.67390404e-01\n",
      " -1.35198368e-01  6.27460491e-01 -3.04463697e-01  1.72094898e+00\n",
      " -4.07375991e-01  3.85369769e-01  6.24688480e-01 -1.32848767e-01\n",
      "  1.47597590e+00 -1.42558601e+00 -2.89491295e-01  7.24232495e-01\n",
      " -9.16425089e-01  9.31350144e-01  1.80072818e-01  1.43672284e+00\n",
      "  2.08168976e+00  1.39381258e+00 -9.37190794e-02 -7.39726790e-02\n",
      " -9.31015726e-01  2.46862064e-01  3.30557135e-01  4.20719041e-01\n",
      "  4.63485661e-01  1.75759667e-02 -1.58759053e-01 -6.49456274e-01\n",
      " -1.92405689e+00  2.15405451e+00 -2.21611700e+00 -1.26407966e+00\n",
      "  1.92935475e+00 -1.60780016e+00  1.15713716e+00 -2.08093634e+00\n",
      "  1.46257173e+00  8.06928757e-01 -1.45401109e-01 -1.51280054e+00\n",
      " -1.50569035e+00  2.04224601e+00  6.23136165e-01 -2.88466981e-01\n",
      "  6.57233324e-01 -1.60813677e-01 -9.02061283e-01  8.89335086e-01\n",
      " -1.88314402e+00 -1.04986162e+00  1.20438002e+00  1.24717517e-01\n",
      " -1.69305880e+00  1.45332371e+00  1.10579035e-01 -6.62931233e-02\n",
      "  1.54420614e-01 -4.18608291e-01 -4.83411265e-01  2.08519760e-02\n",
      " -1.80457349e-01 -7.61237985e-01  1.80173781e+00 -1.54557931e+00\n",
      " -9.22739222e-01  1.93281807e+00 -1.75170812e+00  4.32724821e-01\n",
      "  2.84214117e-01 -8.94928963e-01 -1.20710605e+00 -1.29919898e-01\n",
      "  1.86401470e-01 -4.36744246e-01  1.24167048e+00  4.28904496e-01\n",
      "  1.56024214e+00 -2.26191074e-01 -9.42747880e-01 -4.88808818e-01\n",
      " -1.02072477e+00 -9.20417547e-01  1.56040970e+00  1.84357064e-01\n",
      "  3.71753704e-01 -1.50593467e+00  3.64209810e-01  3.77382873e-01\n",
      "  2.49986121e-01 -7.33233121e-01 -1.80341098e+00  2.05513494e-02\n",
      "  1.36642864e+00 -1.93746411e-01  4.59612623e-01 -4.35480474e-01\n",
      "  9.07217820e-02  7.40680805e-01  9.27772402e-02 -3.88218348e-01\n",
      " -2.22091084e+00  2.72130875e-01  3.81774336e-02  1.15409799e+00\n",
      "  1.84733536e+00  5.41804025e-01 -7.48695257e-01  2.26488684e+00\n",
      "  1.00080036e+00  1.60223136e+00  5.57661386e-01  4.58177864e-01\n",
      " -1.88607406e+00  1.39473451e+00  3.90300629e-02  1.00155729e+00\n",
      " -2.47832486e+00  1.21045874e+00  5.30442579e-01  1.76862714e+00\n",
      "  2.72020086e-01  2.71955747e-02 -1.61845912e+00  1.67004370e+00\n",
      " -1.36348076e+00 -6.16399827e-01 -5.39556810e-01  1.65958761e+00\n",
      " -1.14682811e+00 -4.51817009e-01 -8.75048319e-01  1.12277395e+00\n",
      "  2.65663925e-01 -4.32612033e-01 -4.82986378e-01 -2.08518721e+00\n",
      " -4.22299345e-01 -7.31896453e-01  8.63085526e-01 -1.16611595e-01\n",
      " -2.01545938e+00 -3.11937807e-01 -1.44855156e+00  8.01295299e-02\n",
      "  1.39105451e+00 -6.47336316e-01  1.08898454e+00  1.14765593e+00\n",
      "  1.15535454e-01  2.10993628e-02  1.57506365e-01 -1.38870552e+00\n",
      "  1.28343165e+00 -2.06972650e-01  6.80484554e-01  4.18372318e-01\n",
      "  1.09731415e+00  2.57370261e+00 -9.54759911e-01  4.08460978e-01\n",
      "  2.19527713e+00 -5.41224088e-01 -7.84002379e-01  1.49359065e+00\n",
      " -8.47315065e-01 -9.13440685e-01 -7.75297537e-01  5.58792575e-02\n",
      "  6.85578835e-01  1.23182762e+00 -5.56358049e-01 -1.20596439e+00\n",
      " -1.18924218e+00  1.29471635e+00 -7.18983730e-01 -2.90328637e-01\n",
      "  3.15213431e-01  5.16663887e-01 -5.97284102e-01  1.46049853e-01\n",
      "  1.48880365e+00  1.06583453e+00  9.05402989e-01  9.18806425e-02\n",
      "  9.18686514e-01  1.12905862e+00 -6.84775630e-01 -9.74416916e-01\n",
      " -4.27540375e-01  5.78002408e-01 -1.23148559e+00 -3.96434333e-01\n",
      " -1.62273762e-01  1.42085304e-01 -5.06072577e-01  9.63753125e-01\n",
      "  3.39929812e-01 -6.70759675e-01  1.17482677e+00 -2.96608263e-01\n",
      " -2.96410828e-01 -2.35457350e-01  1.81876775e+00 -1.88467985e-01\n",
      " -3.00559909e-01 -1.36915245e+00 -8.02301244e-01 -9.27906480e-02\n",
      "  1.06248426e+00 -7.92251960e-01 -5.34595545e-01 -9.34142915e-01\n",
      "  3.85320357e-01  7.81793782e-01  1.69086993e-01  4.57242496e-01\n",
      " -6.35995096e-01 -1.25183568e-01  1.71814459e-01 -1.83834021e-01\n",
      " -9.65367248e-01 -4.63473863e-01  5.90163292e-01  4.62224527e-02\n",
      "  7.09636790e-01  1.27922562e+00  1.48499490e+00 -1.49985804e+00\n",
      " -3.58800770e-01 -1.30861970e+00 -3.27146061e-01 -1.07354841e+00\n",
      "  3.28640433e-01  7.04961413e-01 -4.29049943e-01  6.15148843e-01\n",
      " -1.21506324e+00  1.52085000e+00  1.00809590e+00 -2.32401686e-01\n",
      " -3.41618979e-01 -1.49298452e+00 -4.83831596e-01  2.82189510e-01\n",
      " -1.32023481e-01 -9.72973791e-01 -3.04585083e-01  3.66712406e-01\n",
      "  1.14928711e+00  1.18566991e-01  2.19379513e-01  7.21106999e-01\n",
      "  2.40846293e-02  1.10870823e+00 -7.80068535e-01  9.48783556e-01\n",
      "  4.24180275e-01  5.85842295e-02  1.72385028e-01  9.79837116e-01\n",
      " -1.08821478e+00  2.89020283e-01  5.56339690e-01  1.06767946e+00\n",
      "  1.31229924e+00 -5.66289098e-01 -1.02441381e+00  1.31643065e+00\n",
      "  5.93552647e-01  1.07782144e+00 -7.79969792e-01  5.23175772e-01\n",
      " -3.08955896e-01  1.74337884e+00 -2.02651459e-01 -1.10952246e+00\n",
      " -1.06406365e+00 -1.39350287e+00  2.98278177e-01  1.40002592e+00\n",
      "  9.62426573e-01  1.25243314e+00  6.33343699e-01 -9.11334498e-01\n",
      " -1.42683544e+00 -1.41818465e+00 -5.58602319e-01 -1.11117216e+00\n",
      " -3.37786050e-01 -4.56954468e-01 -2.91052396e-01  1.07153059e-01\n",
      "  3.78988147e-01 -1.07624718e+00  2.00249316e-01 -1.00554299e+00\n",
      " -6.83573538e-01  7.39621902e-01  6.61303476e-01 -2.14697380e-01\n",
      "  1.22733170e-01  1.55726997e+00 -1.77011121e+00  3.22908626e-01\n",
      " -8.07439039e-03 -1.63625423e+00 -6.36980539e-01  3.92798659e-01\n",
      "  9.29715314e-01 -7.51697597e-01 -1.26888998e+00  7.17817977e-01\n",
      "  7.65109620e-01 -5.94725225e-01 -1.26903749e+00 -3.20680933e-01\n",
      " -1.33005573e+00  4.76850589e-01  2.10734267e+00  6.28815942e-01\n",
      "  6.76182597e-01  1.25940065e-01  9.94998257e-02  5.49142429e-01\n",
      "  1.17995310e+00  7.58002596e-01 -1.81063360e+00  6.59904806e-01\n",
      "  8.18248319e-01  1.20981512e+00  7.63250056e-01 -1.03594520e+00\n",
      " -6.27258125e-01 -4.27906491e-01 -1.73037630e+00 -2.62849614e+00\n",
      " -2.33988651e+00  1.48190091e+00  1.12501772e+00 -8.96596598e-01\n",
      "  3.90717185e-01  8.85015808e-01  7.80363862e-01 -1.25324554e-01\n",
      "  5.16078460e-01  4.84252772e-01  1.44411134e+00 -5.10647812e-01\n",
      "  1.86743176e-01  4.68471379e-01 -2.24794533e-01  1.11215882e+00\n",
      "  1.48385673e+00  2.04030271e+00 -1.94530124e-01 -3.97977257e-01\n",
      "  5.92167026e-01 -1.01356266e+00  1.08718010e+00  1.77250934e+00\n",
      "  1.97245580e+00 -6.16583422e-01 -1.78723257e+00  1.12555162e+00\n",
      " -9.32960435e-01 -3.13422245e-01 -7.71251190e-01 -1.19130781e+00\n",
      "  1.13485263e+00  3.15183591e-01  5.14140037e-01 -1.99513769e-01\n",
      "  3.05597475e-01  1.68830377e-01  1.71526470e-01 -8.76231244e-01\n",
      "  2.20815045e+00  2.34950701e-01 -6.00928231e-01 -6.29044162e-01\n",
      "  5.31649047e-01  3.72292037e-01  8.53765799e-01 -1.13384084e-01\n",
      " -1.44560654e+00 -1.18137508e+00 -7.11975010e-01  1.24503886e+00\n",
      " -1.13727495e+00  9.12843987e-01  9.91519117e-01  3.51414598e-01\n",
      "  7.90490621e-01  1.08395999e+00  9.19904700e-01 -1.06020317e+00\n",
      "  9.18602079e-01 -4.43592699e-01 -5.80819475e-01 -6.80016024e-01\n",
      "  1.33794197e+00 -1.00526866e+00  1.34665631e+00 -6.95124169e-01\n",
      "  1.40084867e+00 -1.25312927e-01 -1.23564035e+00  9.14270721e-01\n",
      " -4.12029326e-01 -1.24072542e-01  1.59200868e+00 -1.19495980e+00\n",
      "  3.40536845e-01 -1.92174411e-01  1.66513877e+00 -7.27689926e-01\n",
      " -1.11741212e+00  7.67444233e-01  4.99954621e-01 -5.98751333e-01\n",
      "  2.40689080e-01  8.23540141e-01  5.44500367e-01  8.35645101e-01\n",
      " -6.24292843e-03  4.03368518e-01  3.31199134e-02 -9.21843778e-01\n",
      "  9.39284756e-01 -6.07991237e-01  2.53493794e-02 -4.12270629e-01\n",
      " -9.79259430e-01 -2.58121736e+00 -2.01692168e-01 -9.86705200e-01\n",
      "  2.95500936e-01  4.97325117e-01 -5.32619723e-01  1.10324935e+00\n",
      " -9.06646010e-01 -2.46567528e+00  4.89300873e-01 -4.74609494e-01\n",
      " -9.12595346e-01 -5.62373435e-01  7.67785214e-01  1.56718648e+00\n",
      " -7.68969907e-01  4.81396637e-01 -1.21868525e+00  4.93651413e-01\n",
      "  1.30663212e+00  6.69790186e-01 -9.61908111e-01 -2.31512446e-03\n",
      " -7.33493338e-01  6.02929201e-01 -9.50094180e-01  4.27369687e-01\n",
      "  1.04147084e+00 -1.13182332e+00 -7.67930106e-02 -1.08942608e+00\n",
      " -2.61354603e+00  1.75448626e+00 -8.67366680e-01  5.51893736e-01\n",
      "  2.15647140e-01 -1.33235988e+00  2.32764716e-01  1.32878107e-01\n",
      " -2.48037402e-01  1.48683552e+00 -5.42914864e-01  6.85665480e-01\n",
      " -2.96471512e-01  6.79915297e-01 -1.84159313e+00  1.29094779e+00\n",
      "  1.88912492e+00 -1.33222252e+00  5.18837296e-01  3.56358164e-01\n",
      "  1.54043771e-01  1.95546547e+00  1.08818707e+00 -1.13694755e+00\n",
      " -9.61368857e-01  6.93283417e-01 -5.24082788e-01  5.81810562e-01\n",
      "  1.93541682e+00 -3.25022931e-01 -1.25214630e+00  1.55664793e-01\n",
      " -1.30612183e-01  5.06935373e-01  1.84224309e+00 -8.60954701e-02]\n"
     ]
    }
   ],
   "source": [
    "# This code creates a vector of random variables \n",
    "# generated from a normal distribution with\n",
    "# mean \"loc\" and standard deviation \"scale\"\n",
    "# the number of distinct variabels is \"size\"\n",
    "\n",
    "randomvar_a = np.random.normal(loc=0, scale=1, size=1000)\n",
    "print(randomvar_a)"
   ]
  },
  {
   "attachments": {},
   "cell_type": "markdown",
   "metadata": {},
   "source": [
    "<font size = \"5\">\n",
    "\n",
    "Choose a seed: Ensure replicability"
   ]
  },
  {
   "cell_type": "code",
   "execution_count": 101,
   "metadata": {},
   "outputs": [
    {
     "name": "stdout",
     "output_type": "stream",
     "text": [
      "[-0.20470766  0.47894334 -0.51943872 -0.5557303   1.96578057  1.39340583\n",
      "  0.09290788  0.28174615  0.76902257  1.24643474]\n"
     ]
    }
   ],
   "source": [
    "# Your computer will typically generate different numbers every time you run a command\n",
    "# However, sometimes you want to be able to replicate the results\n",
    "\n",
    "np.random.seed(12345)\n",
    "\n",
    "random_var_b = np.random.normal(loc=0, scale=1, size=10)\n",
    "print(random_var_b)"
   ]
  },
  {
   "attachments": {},
   "cell_type": "markdown",
   "metadata": {},
   "source": [
    "<font size = \"5\">\n",
    "\n",
    "Compute a histogram with the results"
   ]
  },
  {
   "cell_type": "code",
   "execution_count": 15,
   "metadata": {},
   "outputs": [
    {
     "data": {
      "text/plain": [
       "Text(0, 0.5, 'Frequency')"
      ]
     },
     "execution_count": 15,
     "metadata": {},
     "output_type": "execute_result"
    },
    {
     "data": {
      "image/png": "[encoded data removed]",
      "text/plain": [
       "<Figure size 640x480 with 1 Axes>"
      ]
     },
     "metadata": {},
     "output_type": "display_data"
    }
   ],
   "source": [
    "# Compute a histogram\n",
    "# You can edit the number of bins with plt.hist(x = randomvar_a)\n",
    "\n",
    "randomvar_x = np.random.normal(loc=0, scale=1, size=1000)\n",
    "\n",
    "plt.hist(x = randomvar_x)\n",
    "plt.xlabel(\"Variable a\")\n",
    "plt.ylabel(\"Frequency\")"
   ]
  },
  {
   "cell_type": "markdown",
   "metadata": {},
   "source": []
  },
  {
   "cell_type": "code",
   "execution_count": null,
   "metadata": {},
   "outputs": [],
   "source": [
    "# Try generating a new random variable with 1000 observations and\n",
    "# create a histogram\n",
    "\n"
   ]
  },
  {
   "attachments": {},
   "cell_type": "markdown",
   "metadata": {},
   "source": [
    "# <span style=\"color:darkblue\"> Additional Resources </span>\n",
    "\n",
    "<font size=\"5\"> \n",
    "\n",
    "Check out additional examples at:\n",
    "\n",
    "- https://allendowney.github.io/ElementsOfDataScience/03_arrays.html\n",
    "\n"
   ]
  },
  {
   "attachments": {},
   "cell_type": "markdown",
   "metadata": {},
   "source": [
    "# <span style=\"color:darkblue\"> (Optional) Matrix Operations </span>\n",
    "\n",
    "<font size=\"5\"> \n"
   ]
  },
  {
   "attachments": {},
   "cell_type": "markdown",
   "metadata": {},
   "source": [
    "<font size = \"5\">\n",
    "Creating a matrix by stacking different rows"
   ]
  },
  {
   "cell_type": "code",
   "execution_count": 65,
   "metadata": {},
   "outputs": [
    {
     "name": "stdout",
     "output_type": "stream",
     "text": [
      "[[1 2 3]\n",
      " [4 5 6]\n",
      " [7 8 9]]\n"
     ]
    }
   ],
   "source": [
    "# Matrices are usually denoted by capital letters\n",
    "# The object [[1,2,3],[4,5,6],[7,8,9]] is a list of lists\n",
    "# It's useful to maintain this notation in the code as well\n",
    "\n",
    "X = np.array([[1,2,3],[4,5,6],[7,8,9]])\n",
    "print(X)"
   ]
  },
  {
   "attachments": {},
   "cell_type": "markdown",
   "metadata": {},
   "source": [
    "<font size = \"5\">\n",
    "Creating a matrix by stacking different columns"
   ]
  },
  {
   "cell_type": "code",
   "execution_count": 66,
   "metadata": {},
   "outputs": [
    {
     "name": "stdout",
     "output_type": "stream",
     "text": [
      "[[1 0]\n",
      " [0 1]\n",
      " [1 0]]\n"
     ]
    }
   ],
   "source": [
    "# You can also stack columns\n",
    "Y =  np.column_stack([[1,0,1],[0,1,0]])\n",
    "print(Y)"
   ]
  },
  {
   "attachments": {},
   "cell_type": "markdown",
   "metadata": {},
   "source": [
    "<font size = \"5\">\n",
    "Basic matrix operations"
   ]
  },
  {
   "cell_type": "code",
   "execution_count": 60,
   "metadata": {},
   "outputs": [
    {
     "data": {
      "text/plain": [
       "array([[1, 0, 1],\n",
       "       [0, 1, 0]])"
      ]
     },
     "execution_count": 60,
     "metadata": {},
     "output_type": "execute_result"
    }
   ],
   "source": [
    "# Matrix Transpose\n",
    "np.matrix.transpose(Y)"
   ]
  },
  {
   "cell_type": "code",
   "execution_count": 63,
   "metadata": {},
   "outputs": [
    {
     "name": "stdout",
     "output_type": "stream",
     "text": [
      "[[1 0]\n",
      " [0 1]\n",
      " [1 0]]\n"
     ]
    },
    {
     "data": {
      "text/plain": [
       "array([[1, 0],\n",
       "       [0, 1],\n",
       "       [1, 0]])"
      ]
     },
     "execution_count": 63,
     "metadata": {},
     "output_type": "execute_result"
    }
   ],
   "source": [
    "# Matrix Multiplication\n",
    "print(X)\n",
    "np.multiply(X,Y)"
   ]
  },
  {
   "cell_type": "code",
   "execution_count": 110,
   "metadata": {},
   "outputs": [
    {
     "name": "stdout",
     "output_type": "stream",
     "text": [
      "[[1 2 3]\n",
      " [4 5 6]\n",
      " [7 8 9]]\n"
     ]
    }
   ],
   "source": [
    "# Matrix inverse\n",
    "# The following command stands for linear algebrar inverse.\n",
    "\n",
    "\n",
    "X_inv = np.linalg.inv(X)\n",
    "print(X)"
   ]
  }
 ],
 "metadata": {
  "kernelspec": {
   "display_name": "base",
   "language": "python",
   "name": "python3"
  },
  "language_info": {
   "codemirror_mode": {
    "name": "ipython",
    "version": 3
   },
   "file_extension": ".py",
   "mimetype": "text/x-python",
   "name": "python",
   "nbconvert_exporter": "python",
   "pygments_lexer": "ipython3",
   "version": "3.8.8"
  },
  "orig_nbformat": 4,
  "vscode": {
   "interpreter": {
    "hash": "f7ccf0ae4535e632d6f82fd67ad022d41dd4b99b9e52bb5b79d381c28e2a9ad0"
   }
  }
 },
 "nbformat": 4,
 "nbformat_minor": 2
}
