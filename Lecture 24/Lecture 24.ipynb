{
 "cells": [
  {
   "attachments": {},
   "cell_type": "markdown",
   "metadata": {},
   "source": [
    "# <span style=\"color:darkblue\"> Lecture 24 - Text Data  </span>\n",
    "\n",
    "<font size = \"5\">\n",
    "\n",
    "In  this lecture we will work with text data"
   ]
  },
  {
   "attachments": {},
   "cell_type": "markdown",
   "metadata": {},
   "source": [
    "<font size = \"5\">\n",
    "\n",
    "Import Libraries"
   ]
  },
  {
   "cell_type": "code",
   "execution_count": 1,
   "metadata": {},
   "outputs": [],
   "source": [
    "import pandas as pd\n",
    "import matplotlib.pyplot as plt\n",
    "import numpy as np\n",
    "import re"
   ]
  },
  {
   "cell_type": "markdown",
   "metadata": {},
   "source": [
    "<font size = \"5\">\n",
    "\n",
    "Import Data\n",
    "\n",
    "- Congressional bills in the United States"
   ]
  },
  {
   "cell_type": "code",
   "execution_count": 2,
   "metadata": {},
   "outputs": [
    {
     "data": {
      "text/plain": [
       "Congress        int64\n",
       "bill_number     int64\n",
       "bill_type      object\n",
       "action         object\n",
       "main_action    object\n",
       "category       object\n",
       "member_id       int64\n",
       "dtype: object"
      ]
     },
     "execution_count": 2,
     "metadata": {},
     "output_type": "execute_result"
    }
   ],
   "source": [
    "bills_actions = pd.read_csv(\"data_raw/bills_actions.csv\")\n",
    "bills_actions.dtypes"
   ]
  },
  {
   "cell_type": "markdown",
   "metadata": {},
   "source": [
    "# <span style=\"color:darkblue\"> II. Basic Text Operations </span>"
   ]
  },
  {
   "cell_type": "markdown",
   "metadata": {},
   "source": [
    "<font size = \"5\">\n",
    "\n",
    "Count Frequency"
   ]
  },
  {
   "cell_type": "code",
   "execution_count": 3,
   "metadata": {},
   "outputs": [
    {
     "data": {
      "text/plain": [
       "amendment                       1529\n",
       "house bill                       902\n",
       "senate bill                      514\n",
       "house resolution                 234\n",
       "senate resolution                 60\n",
       "house joint resolution            22\n",
       "house concurrent resolution       20\n",
       "senate concurrent resolution      14\n",
       "senate joint resolution            8\n",
       "Name: category, dtype: int64"
      ]
     },
     "execution_count": 3,
     "metadata": {},
     "output_type": "execute_result"
    }
   ],
   "source": [
    "bills_actions[\"category\"].value_counts()"
   ]
  },
  {
   "cell_type": "markdown",
   "metadata": {},
   "source": [
    "<font size = \"5\">\n",
    "\n",
    "Subset text categories"
   ]
  },
  {
   "cell_type": "code",
   "execution_count": 4,
   "metadata": {},
   "outputs": [
    {
     "data": {
      "text/plain": [
       "house bill     902\n",
       "senate bill    514\n",
       "Name: category, dtype: int64"
      ]
     },
     "execution_count": 4,
     "metadata": {},
     "output_type": "execute_result"
    }
   ],
   "source": [
    "# For this analysis we are only interested in bills. With \".query()\" ...\n",
    "#     - We select all entries in the column called \"category\" \n",
    "#       which have values contain in \"list_categories\"\n",
    "#     - \"in\" is used to test whether a word belongs to a list\n",
    "#     - @ is the syntax to reference \"global\" variables that\n",
    "#       are defined in the global environment\n",
    "\n",
    "list_categories = [\"house bill\",\"senate bill\"]\n",
    "bills           = bills_actions.query('category in @list_categories')\n",
    "\n",
    "# Verify that the code worked:\n",
    "bills[\"category\"].value_counts()\n"
   ]
  },
  {
   "cell_type": "markdown",
   "metadata": {},
   "source": [
    "<font size = \"5\">\n",
    "\n",
    "Data manipulation with sentences"
   ]
  },
  {
   "cell_type": "code",
   "execution_count": 67,
   "metadata": {},
   "outputs": [
    {
     "name": "stdout",
     "output_type": "stream",
     "text": [
      "0.3199152542372881\n"
     ]
    },
    {
     "data": {
      "text/plain": [
       "3       Committee on Health, Education, Labor, and Pen...\n",
       "4       Committee on the Judiciary. Reported by Custom...\n",
       "5       Committee on the Judiciary. Reported by Custom...\n",
       "6       Committee on Commerce, Science, and Transporta...\n",
       "7       Committee on Veterans' Affairs. Reported by Cu...\n",
       "                              ...                        \n",
       "3262    Mr. Blumenauer moved to suspend the rules and ...\n",
       "3263    At the conclusion of debate, the chair put the...\n",
       "3264    Ms. Hill (CA) moved to suspend the rules and p...\n",
       "3265    Mr. Barr moved to recommit with instructions t...\n",
       "3280           Mr. Pallone moved that the Committee rise.\n",
       "Name: action, Length: 1416, dtype: object"
      ]
     },
     "execution_count": 67,
     "metadata": {},
     "output_type": "execute_result"
    }
   ],
   "source": [
    "# How many bills mention the word Senator?\n",
    "bool_contains = bills[\"action\"].str.contains(\"Senator\")\n",
    "print(bool_contains.mean())\n",
    "\n",
    "# How to replace the word \"Senator\" with \"Custom Title\"\n",
    "bills[\"action\"].str.replace(\"Senator\",\"Custom Title\")"
   ]
  },
  {
   "cell_type": "markdown",
   "metadata": {},
   "source": [
    "<font size = \"5\">\n",
    "\n",
    "Try it yourself!\n",
    "\n",
    "- Obtain a new dataset called \"resolutions\" <br>\n",
    " which subsets rows contain the \"category\" values:\n",
    "\n",
    " ``` [\"house resolution\",\"senate resolution\"] ```"
   ]
  },
  {
   "cell_type": "code",
   "execution_count": 6,
   "metadata": {},
   "outputs": [
    {
     "data": {
      "text/plain": [
       "house resolution     234\n",
       "senate resolution     60\n",
       "Name: category, dtype: int64"
      ]
     },
     "execution_count": 6,
     "metadata": {},
     "output_type": "execute_result"
    }
   ],
   "source": [
    "# Write your own code\n",
    "\n",
    "list_resolutions = [\"house resolution\",\"senate resolution\"]\n",
    "resolutions = bills_actions.query('category in @list_resolutions')\n",
    "\n",
    "resolutions[\"category\"].value_counts()\n"
   ]
  },
  {
   "attachments": {},
   "cell_type": "markdown",
   "metadata": {},
   "source": [
    "# <span style=\"color:darkblue\"> III. Regular Expressions </span>\n",
    "\n",
    "<font size = \"5\">\n",
    "\n",
    "Regular expressions enable advanced searching <br>\n",
    "for string data."
   ]
  },
  {
   "cell_type": "code",
   "execution_count": 7,
   "metadata": {},
   "outputs": [],
   "source": [
    "dataset = pd.read_csv(\"data_raw/bills_actions.csv\")\n",
    "senate_bills = dataset.query('category == \"senate bill\"')\n",
    "amendments   = dataset.query('category == \"amendment\"')"
   ]
  },
  {
   "cell_type": "code",
   "execution_count": 36,
   "metadata": {},
   "outputs": [
    {
     "data": {
      "text/plain": [
       "0       S.Amdt.1274 Amendment SA 1274 proposed by Sena...\n",
       "1       S.Amdt.2698 Amendment SA 2698 proposed by Sena...\n",
       "2       S.Amdt.2659 Amendment SA 2659 proposed by Sena...\n",
       "8       S.Amdt.2424 Amendment SA 2424 proposed by Sena...\n",
       "11      S.Amdt.1275 Amendment SA 1275 proposed by Sena...\n",
       "                              ...                        \n",
       "3298    H.Amdt.172 Amendment (A004) offered by Ms. Kus...\n",
       "3299    H.Amdt.171 Amendment (A003) offered by Ms. Hou...\n",
       "3300    H.Amdt.170 Amendment (A002) offered by Ms. Oma...\n",
       "3301    POSTPONED PROCEEDINGS - At the conclusion of d...\n",
       "3302    H.Amdt.169 Amendment (A001) offered by Mr. Esp...\n",
       "Name: action, Length: 1529, dtype: object"
      ]
     },
     "metadata": {},
     "output_type": "display_data"
    }
   ],
   "source": [
    "display(amendments[\"action\"])"
   ]
  },
  {
   "attachments": {},
   "cell_type": "markdown",
   "metadata": {},
   "source": [
    "<font size = \"5\">\n",
    "\n",
    "Search word"
   ]
  },
  {
   "cell_type": "code",
   "execution_count": 8,
   "metadata": {},
   "outputs": [
    {
     "data": {
      "text/plain": [
       "0       [Amdt.]\n",
       "1       [Amdt.]\n",
       "2       [Amdt.]\n",
       "8       [Amdt.]\n",
       "11      [Amdt.]\n",
       "         ...   \n",
       "3298    [Amdt.]\n",
       "3299    [Amdt.]\n",
       "3300    [Amdt.]\n",
       "3301         []\n",
       "3302    [Amdt.]\n",
       "Name: action, Length: 1529, dtype: object"
      ]
     },
     "execution_count": 8,
     "metadata": {},
     "output_type": "execute_result"
    }
   ],
   "source": [
    "# We use the \".str.findall()\" subfunction\n",
    "# The argument is an expression\n",
    "# Escape character (\\) is provided to signify that the \".\" does not have additional meaning, does not signify special character\n",
    "\n",
    "amendments[\"action\"].str.findall(\"Amdt\\.\")"
   ]
  },
  {
   "attachments": {},
   "cell_type": "markdown",
   "metadata": {},
   "source": [
    "<font size = \"5\">\n",
    "\n",
    "Wildcards\n",
    "\n",
    "$\\quad$ <img src=\"figures/wildcards_regex1.png\" alt=\"drawing\" width=\"300\"/>"
   ]
  },
  {
   "cell_type": "code",
   "execution_count": 11,
   "metadata": {},
   "outputs": [
    {
     "data": {
      "text/plain": [
       "0       [Amdt.1]\n",
       "1       [Amdt.2]\n",
       "2       [Amdt.2]\n",
       "8       [Amdt.2]\n",
       "11      [Amdt.1]\n",
       "          ...   \n",
       "3298    [Amdt.1]\n",
       "3299    [Amdt.1]\n",
       "3300    [Amdt.1]\n",
       "3301          []\n",
       "3302    [Amdt.1]\n",
       "Name: action, Length: 1529, dtype: object"
      ]
     },
     "metadata": {},
     "output_type": "display_data"
    },
    {
     "data": {
      "text/plain": [
       "0       [.Amdt.]\n",
       "1       [.Amdt.]\n",
       "2       [.Amdt.]\n",
       "8       [.Amdt.]\n",
       "11      [.Amdt.]\n",
       "          ...   \n",
       "3298    [.Amdt.]\n",
       "3299    [.Amdt.]\n",
       "3300    [.Amdt.]\n",
       "3301          []\n",
       "3302    [.Amdt.]\n",
       "Name: action, Length: 1529, dtype: object"
      ]
     },
     "metadata": {},
     "output_type": "display_data"
    },
    {
     "data": {
      "text/plain": [
       "0       [S.Amdt.]\n",
       "1       [S.Amdt.]\n",
       "2       [S.Amdt.]\n",
       "8       [S.Amdt.]\n",
       "11      [S.Amdt.]\n",
       "          ...    \n",
       "3298    [H.Amdt.]\n",
       "3299    [H.Amdt.]\n",
       "3300    [H.Amdt.]\n",
       "3301           []\n",
       "3302    [H.Amdt.]\n",
       "Name: action, Length: 1529, dtype: object"
      ]
     },
     "metadata": {},
     "output_type": "display_data"
    }
   ],
   "source": [
    "# Get digits after string\n",
    "example1 = amendments[\"action\"].str.findall(\"Amdt..\")\n",
    "# Find one additioanl character adajacent to the end of the string\n",
    "\n",
    "# Get any character before string\n",
    "example2 = amendments[\"action\"].str.findall(\".Amdt\\.\")\n",
    "# Find one additioanl character adajacent to the start of the string\n",
    "\n",
    "\n",
    "# Get two characters before string\n",
    "example3 = amendments[\"action\"].str.findall(\"..Amdt\\.\")\n",
    "# Find two additioanl characters adajacent to the start of the string\n",
    "\n",
    "display(example1)\n",
    "display(example2)\n",
    "display(example3)"
   ]
  },
  {
   "attachments": {},
   "cell_type": "markdown",
   "metadata": {},
   "source": [
    "<font size = \"5\">\n",
    "\n",
    "Wildcards + Quantifiers\n",
    "\n",
    "$\\quad$ <img src=\"figures/wildcards_regex2.png\" alt=\"drawing\" width=\"300\"/>"
   ]
  },
  {
   "cell_type": "code",
   "execution_count": 18,
   "metadata": {},
   "outputs": [
    {
     "data": {
      "text/plain": [
       "0       [Amdt.1274]\n",
       "1       [Amdt.2698]\n",
       "2       [Amdt.2659]\n",
       "8       [Amdt.2424]\n",
       "11      [Amdt.1275]\n",
       "           ...     \n",
       "3298     [Amdt.172]\n",
       "3299     [Amdt.171]\n",
       "3300     [Amdt.170]\n",
       "3301             []\n",
       "3302     [Amdt.169]\n",
       "Name: action, Length: 1529, dtype: object"
      ]
     },
     "metadata": {},
     "output_type": "display_data"
    },
    {
     "data": {
      "text/plain": [
       "0       [S.Amdt.]\n",
       "1       [S.Amdt.]\n",
       "2       [S.Amdt.]\n",
       "8       [S.Amdt.]\n",
       "11      [S.Amdt.]\n",
       "          ...    \n",
       "3298    [H.Amdt.]\n",
       "3299    [H.Amdt.]\n",
       "3300    [H.Amdt.]\n",
       "3301           []\n",
       "3302    [H.Amdt.]\n",
       "Name: action, Length: 1529, dtype: object"
      ]
     },
     "metadata": {},
     "output_type": "display_data"
    }
   ],
   "source": [
    "# Get all consecutive digits after string\n",
    "example4 = amendments[\"action\"].str.findall(\"Amdt\\.\\d*\") #all consecutive digit after Amdt.\n",
    "\n",
    "# Get all consecutive characters before string\n",
    "example5 = amendments[\"action\"].str.findall(\".*Amdt\\.\") ##all consecutive characters before Amdt.\n",
    "\n",
    "display(example4)\n",
    "display(example5)\n"
   ]
  },
  {
   "attachments": {},
   "cell_type": "markdown",
   "metadata": {},
   "source": [
    "<font size = \"5\">\n",
    "\n",
    "Try it yourself\n",
    "\n",
    "- Practice using the ```senate_bills``` dataset\n",
    "- Use ```.str.findall()``` to find the word \"Senator\"\n",
    "- Use the regular expression ```\"Senator \\S``` to extract <br>\n",
    " the the first letter of senator\n",
    "- Use ```*``` to extract senator names"
   ]
  },
  {
   "cell_type": "code",
   "execution_count": 30,
   "metadata": {},
   "outputs": [
    {
     "data": {
      "text/plain": [
       "3      [Senator]\n",
       "4      [Senator]\n",
       "5      [Senator]\n",
       "6      [Senator]\n",
       "7      [Senator]\n",
       "         ...    \n",
       "795    [Senator]\n",
       "796           []\n",
       "797    [Senator]\n",
       "798           []\n",
       "799    [Senator]\n",
       "Name: action, Length: 514, dtype: object"
      ]
     },
     "metadata": {},
     "output_type": "display_data"
    },
    {
     "data": {
      "text/plain": [
       "3      [Senator A]\n",
       "4      [Senator G]\n",
       "5      [Senator G]\n",
       "6      [Senator W]\n",
       "7      [Senator M]\n",
       "          ...     \n",
       "795    [Senator J]\n",
       "796             []\n",
       "797    [Senator H]\n",
       "798             []\n",
       "799    [Senator G]\n",
       "Name: action, Length: 514, dtype: object"
      ]
     },
     "metadata": {},
     "output_type": "display_data"
    },
    {
     "data": {
      "text/plain": [
       "3      [Senator Alexander]\n",
       "4         [Senator Graham]\n",
       "5         [Senator Graham]\n",
       "6         [Senator Wicker]\n",
       "7          [Senator Moran]\n",
       "              ...         \n",
       "795      [Senator Johnson]\n",
       "796                     []\n",
       "797       [Senator Hoeven]\n",
       "798                     []\n",
       "799       [Senator Graham]\n",
       "Name: action, Length: 514, dtype: object"
      ]
     },
     "metadata": {},
     "output_type": "display_data"
    }
   ],
   "source": [
    "# Write your own code\n",
    "\n",
    "example6 = senate_bills[\"action\"].str.findall(\"Senator\")\n",
    "example7 = senate_bills[\"action\"].str.findall(\"Senator \\S\")\n",
    "example8 = senate_bills[\"action\"].str.findall(\"Senator \\S*\")\n",
    "\n",
    "\n",
    "display(example6)\n",
    "display(example7)\n",
    "display(example8)"
   ]
  }
 ],
 "metadata": {
  "kernelspec": {
   "display_name": "Python 3",
   "language": "python",
   "name": "python3"
  },
  "language_info": {
   "codemirror_mode": {
    "name": "ipython",
    "version": 3
   },
   "file_extension": ".py",
   "mimetype": "text/x-python",
   "name": "python",
   "nbconvert_exporter": "python",
   "pygments_lexer": "ipython3",
   "version": "3.11.1 (v3.11.1:a7a450f84a, Dec  6 2022, 15:24:06) [Clang 13.0.0 (clang-1300.0.29.30)]"
  },
  "orig_nbformat": 4,
  "vscode": {
   "interpreter": {
    "hash": "aee8b7b246df8f9039afb4144a1f6fd8d2ca17a180786b69acc140d282b71a49"
   }
  }
 },
 "nbformat": 4,
 "nbformat_minor": 2
}
