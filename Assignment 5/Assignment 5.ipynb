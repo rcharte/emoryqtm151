{
 "cells": [
  {
   "attachments": {},
   "cell_type": "markdown",
   "metadata": {},
   "source": [
    "# Assignment 5"
   ]
  },
  {
   "attachments": {},
   "cell_type": "markdown",
   "metadata": {},
   "source": [
    "## Try to submit as an HTML file"
   ]
  },
  {
   "attachments": {},
   "cell_type": "markdown",
   "metadata": {},
   "source": [
    "<font size = \"5\">\n",
    "Print your name below"
   ]
  },
  {
   "cell_type": "code",
   "execution_count": 1,
   "metadata": {},
   "outputs": [
    {
     "name": "stdout",
     "output_type": "stream",
     "text": [
      "Ryan Charter\n"
     ]
    }
   ],
   "source": [
    "print(\"Ryan Charter\")"
   ]
  },
  {
   "attachments": {},
   "cell_type": "markdown",
   "metadata": {},
   "source": [
    "<font size = \"5\">\n",
    "\n",
    "Import the \"pandas\" library"
   ]
  },
  {
   "cell_type": "code",
   "execution_count": 1,
   "metadata": {},
   "outputs": [],
   "source": [
    "# Write your answer here:\n",
    "\n",
    "import pandas as pd\n",
    "\n"
   ]
  },
  {
   "attachments": {},
   "cell_type": "markdown",
   "metadata": {},
   "source": [
    "<font size = \"5\">\n",
    "\n",
    "Import the  \"os\" library\n",
    "\n",
    "- This is the \"operating system\" library\n",
    "- Helpful for managing folders"
   ]
  },
  {
   "cell_type": "code",
   "execution_count": 5,
   "metadata": {},
   "outputs": [],
   "source": [
    "# Write your answer here:\n",
    "\n",
    "import os\n",
    "\n"
   ]
  },
  {
   "attachments": {},
   "cell_type": "markdown",
   "metadata": {},
   "source": [
    "<font size = \"5\">\n",
    "(a) Store dataset in another folder\n",
    "\n",
    "<font size = \"3\">\n",
    "\n",
    "<br>\n",
    "\n",
    "\n",
    "- Create a variable: $\\quad$ ``` dataset_name  = \"wdi_2000.csv\" ```\n",
    "- Create a variable: $\\quad$ ``` old_directory = \"wdi_data/\" ```\n",
    "- Create a variable: $\\quad$ ``` new_directory = \"clean_data/\" ```\n",
    "- Create a variable \n",
    "$\\quad$ ``` old_path  = old_directory +  dataset_name```\n",
    "- Create a variable \n",
    "$\\quad$ ``` new_path  = new_directory +  dataset_name```\n",
    "- Read the the csv file in the old location and save it to the new location\n",
    "\n"
   ]
  },
  {
   "cell_type": "code",
   "execution_count": 6,
   "metadata": {},
   "outputs": [],
   "source": [
    "# Write your answer here:\n",
    "\n",
    "dataset_name  = \"wdi_2000.csv\" \n",
    "old_directory = \"wdi_data/\" \n",
    "new_directory = \"clean_data/\"\n",
    "old_path = old_directory + dataset_name\n",
    "new_path = new_directory + dataset_name\n",
    "\n",
    "new_path = pd.read_csv(old_path)\n",
    "\n"
   ]
  },
  {
   "attachments": {},
   "cell_type": "markdown",
   "metadata": {},
   "source": [
    "<font size = \"5\">\n",
    "\n",
    "(b) Check the working directory\n",
    "\n",
    "<font size = \"3\">\n",
    "\n",
    "- We will use a new command \"os.getcwd()\"\n",
    "- This shows you the current working directory (CWD) in your computer\n",
    "- This is usually the folder where your Python notebook is stored\n",
    "\n",
    "Run the following commands:\n",
    "\n",
    "- Get CWD: ``` current_directory = os.getcwd() ```\n",
    "- Print CWD: ``` print(current_directory) ```\n"
   ]
  },
  {
   "cell_type": "code",
   "execution_count": 8,
   "metadata": {},
   "outputs": [
    {
     "name": "stdout",
     "output_type": "stream",
     "text": [
      "/Users/ryancharter/Desktop/Spring 2023/QTM 151/emoryqtm151/Assignment 5\n"
     ]
    }
   ],
   "source": [
    "# Write your answer here\n",
    "\n",
    "current_directory = os.getcwd()\n",
    "print(current_directory)\n",
    "\n",
    "\n",
    "\n"
   ]
  },
  {
   "attachments": {},
   "cell_type": "markdown",
   "metadata": {},
   "source": [
    "<font size = \"5\">\n",
    "\n",
    "(c) Extract files from a directory\n",
    "\n",
    "<font size = \"3\" >\n",
    "- Get a list of files in the \"wdi_data\" folder\n",
    "\n",
    " ``` list_filesnames = os.listdir(\"wdi_data\") ```\n",
    "\n",
    " - Print the list of files\n",
    " - Create an empty list called ```list_csv_files ```\n",
    " - Run a for-loop over ```list_files```\n",
    " - Append each element to ```list_csv_files ``` if its name ends in \".csv\"\n",
    " - Print ```list_csv_files ```\n",
    "\n",
    " The goal is to list all CSV files in the directory\n",
    "\n",
    " HINT:\n",
    " - Read the lecture on boolean variables\n",
    " - Use \"in\" to check whether \".csv\" is part of the filename\n",
    " "
   ]
  },
  {
   "cell_type": "code",
   "execution_count": 18,
   "metadata": {},
   "outputs": [
    {
     "name": "stdout",
     "output_type": "stream",
     "text": [
      "['wdi_2020.csv', 'wdi_2000.csv', 'features.xlsx']\n",
      "['wdi_2020.csv', 'wdi_2000.csv']\n"
     ]
    }
   ],
   "source": [
    "# Write your answer here:\n",
    "\n",
    "list_filesnames = os.listdir(\"wdi_data\")\n",
    "print(list_filesnames)\n",
    "\n",
    "list_files = [\"wdi_2020.csv\", \"wdi_2000.csv\", \"features.xlsx\"]   \n",
    "list_csv_files = []\n",
    "\n",
    "for file in list_files:\n",
    "    if \".csv\" in file:\n",
    "        list_csv_files.append(file)\n",
    "\n",
    "print(list_csv_files)\n",
    "\n",
    "\n"
   ]
  },
  {
   "attachments": {},
   "cell_type": "markdown",
   "metadata": {},
   "source": [
    "<font size = \"5\">\n",
    "\n",
    "(d) Define a function that computes $ V = \\frac{P}{1+ r} $\n",
    "\n",
    "<font size = \"3\">\n",
    "\n",
    "- Define a function with parameters $(P,r)$\n",
    "- Then calculate the value of $P$ for the following cases\n",
    "\n",
    "$\\quad $ $ (P = 10, r = 0.05)$ <br>\n",
    "$\\quad $ $ (P = 10, r = 0.09)$\n",
    "\n",
    "- Print the resulting output"
   ]
  },
  {
   "cell_type": "code",
   "execution_count": 20,
   "metadata": {},
   "outputs": [
    {
     "name": "stdout",
     "output_type": "stream",
     "text": [
      "9.523809523809524\n",
      "9.174311926605505\n"
     ]
    }
   ],
   "source": [
    "# Write your answer here\n",
    "\n",
    "def fn_compute_value(P,r):\n",
    "    V = P/(1+r)\n",
    "    return(V)\n",
    "\n",
    "V1 = fn_compute_value(P = 10, r = 0.05)\n",
    "V2 = fn_compute_value(P = 10, r = 0.09)\n",
    "\n",
    "print(V1)\n",
    "print(V2)\n",
    "\n"
   ]
  },
  {
   "attachments": {},
   "cell_type": "markdown",
   "metadata": {},
   "source": [
    "<font size = \"5\">\n",
    "\n",
    "(e) Repeat (d) but this time define a \"lambda\" function"
   ]
  },
  {
   "cell_type": "code",
   "execution_count": 21,
   "metadata": {},
   "outputs": [
    {
     "name": "stdout",
     "output_type": "stream",
     "text": [
      "9.523809523809524\n",
      "9.174311926605505\n"
     ]
    }
   ],
   "source": [
    "# Write your answer here\n",
    "\n",
    "fn_compute_value_lambda =  lambda P,r: P/(1+r)\n",
    "\n",
    "V1 = fn_compute_value_lambda(P = 10, r = 0.05)\n",
    "V2 = fn_compute_value_lambda(P = 10, r = 0.09)\n",
    "\n",
    "print(V1)\n",
    "print(V2)\n"
   ]
  },
  {
   "attachments": {},
   "cell_type": "markdown",
   "metadata": {},
   "source": [
    "<font size = \"5\">"
   ]
  }
 ],
 "metadata": {
  "kernelspec": {
   "display_name": "base",
   "language": "python",
   "name": "python3"
  },
  "language_info": {
   "codemirror_mode": {
    "name": "ipython",
    "version": 3
   },
   "file_extension": ".py",
   "mimetype": "text/x-python",
   "name": "python",
   "nbconvert_exporter": "python",
   "pygments_lexer": "ipython3",
   "version": "3.8.8"
  },
  "orig_nbformat": 4,
  "vscode": {
   "interpreter": {
    "hash": "f7ccf0ae4535e632d6f82fd67ad022d41dd4b99b9e52bb5b79d381c28e2a9ad0"
   }
  }
 },
 "nbformat": 4,
 "nbformat_minor": 2
}
